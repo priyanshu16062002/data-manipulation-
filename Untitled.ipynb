{
 "cells": [
  {
   "cell_type": "code",
   "execution_count": 1,
   "id": "110f79a8-1c05-403c-a254-0ea2ab15de47",
   "metadata": {},
   "outputs": [],
   "source": [
    "import pandas as pd\n",
    "import numpy as np\n",
    "import matplotlib.pyplot as plt\n",
    "import seaborn as sns\n"
   ]
  },
  {
   "cell_type": "code",
   "execution_count": 2,
   "id": "1666836a-b0af-4908-a37a-8eaa9f831cc5",
   "metadata": {},
   "outputs": [],
   "source": [
    "# Load the dataset\n",
    "df = pd.read_csv('01.Data Cleaning and Preprocessing.csv')\n"
   ]
  },
  {
   "cell_type": "code",
   "execution_count": 3,
   "id": "b50a0ed0-b613-41d2-bf39-63103e73b149",
   "metadata": {},
   "outputs": [
    {
     "name": "stdout",
     "output_type": "stream",
     "text": [
      "<bound method NDFrame.head of     Observation  Y-Kappa  ChipRate  BF-CMratio  BlowFlow  ChipLevel4   \\\n",
      "0      31-00:00    23.10    16.520     121.717  1177.607      169.805   \n",
      "1      31-01:00    27.60    16.810      79.022  1328.360      341.327   \n",
      "2      31-02:00    23.19    16.709      79.562  1329.407      239.161   \n",
      "3      31-03:00    23.60    16.478      81.011  1334.877      213.527   \n",
      "4      31-04:00    22.90    15.618      93.244  1334.168      243.131   \n",
      "..          ...      ...       ...         ...       ...          ...   \n",
      "319    10-16:00    23.75    12.667      93.450  1178.252      276.955   \n",
      "320     9-19:00    19.80    12.558      94.352  1184.119      297.071   \n",
      "321     9-20:00    23.01    12.550      90.842  1188.517      289.826   \n",
      "322     9-21:00    24.32    13.083      88.910  1192.879      318.006   \n",
      "323     9-22:00    25.75    13.417      85.451  1186.342      248.312   \n",
      "\n",
      "     T-upperExt-2   T-lowerExt-2    UCZAA  WhiteFlow-4   ...  SteamFlow-4   \\\n",
      "0          358.282         329.545  1.443       599.253  ...        67.122   \n",
      "1          351.050         329.067  1.549       537.201  ...        60.012   \n",
      "2          350.022         329.260  1.600       549.611  ...        61.304   \n",
      "3          350.938         331.142  1.604       623.362  ...        68.496   \n",
      "4          351.640         332.709    NaN       638.672  ...        70.022   \n",
      "..             ...             ...    ...           ...  ...           ...   \n",
      "319        347.286         310.970  1.523       513.956  ...        61.141   \n",
      "320        399.135         319.576  1.451       570.058  ...        67.667   \n",
      "321        373.633         314.591  1.457       549.306  ...        66.446   \n",
      "322        364.081         308.559  1.523       504.852  ...        61.054   \n",
      "323        356.289         310.482  1.474       497.375  ...        58.247   \n",
      "\n",
      "     Lower-HeatT-3  Upper-HeatT-3   ChipMass-4   WeakLiquorF   BlackFlow-2   \\\n",
      "0          329.432         303.099      175.964      1127.197      1319.039   \n",
      "1          330.823         304.879      163.202       665.975      1297.317   \n",
      "2          329.140         303.383      164.013       677.534      1327.072   \n",
      "3          328.875         302.254      181.487       767.853      1324.461   \n",
      "4          328.352         300.954      183.929       888.448      1343.424   \n",
      "..             ...             ...          ...           ...           ...   \n",
      "319        330.117         304.006      148.174      1027.201      1357.271   \n",
      "320        330.848         304.616      165.178       906.962      1311.177   \n",
      "321        330.226         304.686      160.841       887.125      1319.226   \n",
      "322        327.346         304.363      147.589       804.423      1320.225   \n",
      "323        328.092         304.093      144.218       828.328      1320.848   \n",
      "\n",
      "     WeakWashF   SteamHeatF-3   T-Top-Chips-4   SulphidityL-4   \n",
      "0       257.325         54.612         252.077             NaN  \n",
      "1       241.182         46.603         251.406           29.11  \n",
      "2       237.272         51.795         251.335             NaN  \n",
      "3       239.478         54.846         250.312           29.02  \n",
      "4       215.372         54.186         249.916           29.01  \n",
      "..          ...            ...             ...             ...  \n",
      "319     381.643         45.264         252.947           30.86  \n",
      "320      25.494         50.528         252.092           30.70  \n",
      "321       0.638         45.549         252.438             NaN  \n",
      "322       0.000         43.725         253.176           31.13  \n",
      "323       1.276         43.840         253.216             NaN  \n",
      "\n",
      "[324 rows x 23 columns]>\n"
     ]
    }
   ],
   "source": [
    "print(df.head)"
   ]
  },
  {
   "cell_type": "code",
   "execution_count": 4,
   "id": "6c60e6f6-5906-493e-8c58-9c3dede90d0c",
   "metadata": {},
   "outputs": [
    {
     "name": "stdout",
     "output_type": "stream",
     "text": [
      "<class 'pandas.core.frame.DataFrame'>\n",
      "RangeIndex: 324 entries, 0 to 323\n",
      "Data columns (total 23 columns):\n",
      " #   Column           Non-Null Count  Dtype  \n",
      "---  ------           --------------  -----  \n",
      " 0   Observation      324 non-null    object \n",
      " 1   Y-Kappa          324 non-null    float64\n",
      " 2   ChipRate         319 non-null    float64\n",
      " 3   BF-CMratio       307 non-null    float64\n",
      " 4   BlowFlow         308 non-null    float64\n",
      " 5   ChipLevel4       323 non-null    float64\n",
      " 6   T-upperExt-2     322 non-null    float64\n",
      " 7   T-lowerExt-2     322 non-null    float64\n",
      " 8   UCZAA            299 non-null    float64\n",
      " 9   WhiteFlow-4      323 non-null    float64\n",
      " 10  AAWhiteSt-4      173 non-null    float64\n",
      " 11  AA-Wood-4        323 non-null    float64\n",
      " 12  ChipMoisture-4   323 non-null    float64\n",
      " 13  SteamFlow-4      323 non-null    float64\n",
      " 14  Lower-HeatT-3    322 non-null    float64\n",
      " 15  Upper-HeatT-3    322 non-null    float64\n",
      " 16  ChipMass-4       323 non-null    float64\n",
      " 17  WeakLiquorF      323 non-null    float64\n",
      " 18  BlackFlow-2      322 non-null    float64\n",
      " 19  WeakWashF        323 non-null    float64\n",
      " 20  SteamHeatF-3     322 non-null    float64\n",
      " 21  T-Top-Chips-4    323 non-null    float64\n",
      " 22  SulphidityL-4    173 non-null    float64\n",
      "dtypes: float64(22), object(1)\n",
      "memory usage: 58.3+ KB\n",
      "None\n"
     ]
    }
   ],
   "source": [
    "print(df.info())"
   ]
  },
  {
   "cell_type": "code",
   "execution_count": 5,
   "id": "e496fa52-f2de-43cd-ab9c-3daea7574376",
   "metadata": {},
   "outputs": [
    {
     "name": "stdout",
     "output_type": "stream",
     "text": [
      "          Y-Kappa    ChipRate  BF-CMratio     BlowFlow  ChipLevel4   \\\n",
      "count  324.000000  319.000000  307.000000   308.000000   323.000000   \n",
      "mean    20.635370   14.347937   87.464456  1237.837614   258.164483   \n",
      "std      3.070036    1.499095    7.995012   100.593735    87.987452   \n",
      "min     12.170000    9.983000   68.645000     0.000000     0.000000   \n",
      "25%     18.382500   13.358000   81.823000  1193.215250   213.527000   \n",
      "50%     20.845000   14.308000   86.739000  1273.138500   271.792000   \n",
      "75%     23.032500   15.517000   92.372000  1289.196000   321.680000   \n",
      "max     27.600000   16.958000  121.717000  1351.240000   419.014000   \n",
      "\n",
      "       T-upperExt-2   T-lowerExt-2         UCZAA  WhiteFlow-4   AAWhiteSt-4   \\\n",
      "count     322.000000      322.000000  299.000000    323.000000    173.000000   \n",
      "mean      356.904295      324.020180    1.492010    591.732260      6.140410   \n",
      "std         9.209290        7.621402    0.105923     67.016351      0.081609   \n",
      "min       339.168000      284.633000    1.182000    405.111000      5.890000   \n",
      "25%       350.241250      321.420000    1.431500    540.989500      6.089000   \n",
      "50%       356.843000      325.669000    1.498000    592.895000      6.135000   \n",
      "75%       362.242250      329.175000    1.560500    639.480500      6.199000   \n",
      "max       399.135000      337.012000    1.747000    731.394000      6.340000   \n",
      "\n",
      "       ...  SteamFlow-4   Lower-HeatT-3  Upper-HeatT-3   ChipMass-4   \\\n",
      "count  ...    323.000000     322.000000      322.000000   323.000000   \n",
      "mean   ...     66.668285     325.567820      300.525699   162.222322   \n",
      "std    ...      5.708587       4.609862        4.568484    14.160688   \n",
      "min    ...     48.568000     318.051000      293.312000   113.922000   \n",
      "25%    ...     62.518000     321.385500      296.513250   153.032500   \n",
      "50%    ...     67.429000     324.741000      299.126000   163.690000   \n",
      "75%    ...     71.522000     329.845250      304.244750   172.555000   \n",
      "max    ...     76.147000     333.854000      311.146000   189.268000   \n",
      "\n",
      "       WeakLiquorF   BlackFlow-2   WeakWashF   SteamHeatF-3   T-Top-Chips-4   \\\n",
      "count    323.000000    322.000000  323.000000     322.000000      323.000000   \n",
      "mean     873.828941   1175.917016  263.543068      49.696907      251.240087   \n",
      "std      122.073521    149.334010  163.666942       4.551909        1.283432   \n",
      "min      486.938000    838.948000    0.000000      35.510000      248.359000   \n",
      "25%      792.019500   1044.817500  134.649000      46.389750      250.312000   \n",
      "50%      865.254000   1150.221500  269.193000      50.277000      251.380000   \n",
      "75%      965.286500   1319.021250  405.563000      53.294250      252.323500   \n",
      "max     1226.277000   1395.767000  715.715000      63.332000      254.122000   \n",
      "\n",
      "       SulphidityL-4   \n",
      "count      173.000000  \n",
      "mean        30.411671  \n",
      "std          0.701317  \n",
      "min         29.010000  \n",
      "25%         29.970000  \n",
      "50%         30.370000  \n",
      "75%         30.820000  \n",
      "max         32.840000  \n",
      "\n",
      "[8 rows x 22 columns]\n"
     ]
    }
   ],
   "source": [
    "print(df.describe())"
   ]
  },
  {
   "cell_type": "code",
   "execution_count": 6,
   "id": "808b4210-4f1e-49a1-9a7a-1c1314b267d1",
   "metadata": {},
   "outputs": [
    {
     "name": "stdout",
     "output_type": "stream",
     "text": [
      "Observation          0\n",
      "Y-Kappa              0\n",
      "ChipRate             5\n",
      "BF-CMratio          17\n",
      "BlowFlow            16\n",
      "ChipLevel4           1\n",
      "T-upperExt-2         2\n",
      "T-lowerExt-2         2\n",
      "UCZAA               25\n",
      "WhiteFlow-4          1\n",
      "AAWhiteSt-4        151\n",
      "AA-Wood-4            1\n",
      "ChipMoisture-4       1\n",
      "SteamFlow-4          1\n",
      "Lower-HeatT-3        2\n",
      "Upper-HeatT-3        2\n",
      "ChipMass-4           1\n",
      "WeakLiquorF          1\n",
      "BlackFlow-2          2\n",
      "WeakWashF            1\n",
      "SteamHeatF-3         2\n",
      "T-Top-Chips-4        1\n",
      "SulphidityL-4      151\n",
      "dtype: int64\n"
     ]
    }
   ],
   "source": [
    "print(df.isna().sum())"
   ]
  },
  {
   "cell_type": "code",
   "execution_count": 7,
   "id": "0e57560f-f8a7-4f9c-a761-6a15fa91c537",
   "metadata": {},
   "outputs": [],
   "source": [
    "df_new=df.dropna()"
   ]
  },
  {
   "cell_type": "code",
   "execution_count": 8,
   "id": "98d754a1-d09e-49df-b419-580825aa411d",
   "metadata": {},
   "outputs": [],
   "source": [
    "df_new=df.drop_duplicates()"
   ]
  },
  {
   "cell_type": "code",
   "execution_count": 12,
   "id": "b877a021-3059-4c99-97d3-853f17c83f64",
   "metadata": {},
   "outputs": [
    {
     "name": "stdout",
     "output_type": "stream",
     "text": [
      "Index(['Observation', 'Y-Kappa', 'ChipRate', 'BF-CMratio', 'BlowFlow',\n",
      "       'ChipLevel4 ', 'T-upperExt-2 ', 'T-lowerExt-2  ', 'UCZAA',\n",
      "       'WhiteFlow-4 ', 'AAWhiteSt-4 ', 'AA-Wood-4  ', 'ChipMoisture-4 ',\n",
      "       'SteamFlow-4 ', 'Lower-HeatT-3', 'Upper-HeatT-3 ', 'ChipMass-4 ',\n",
      "       'WeakLiquorF ', 'BlackFlow-2 ', 'WeakWashF ', 'SteamHeatF-3 ',\n",
      "       'T-Top-Chips-4 ', 'SulphidityL-4 '],\n",
      "      dtype='object')\n"
     ]
    }
   ],
   "source": [
    "print(df.columns)"
   ]
  },
  {
   "cell_type": "code",
   "execution_count": 18,
   "id": "06e69c0e-6a2f-4cfe-9064-d63b1ba361d4",
   "metadata": {},
   "outputs": [
    {
     "data": {
      "text/plain": [
       "<Axes: xlabel='SulphidityL-4 '>"
      ]
     },
     "execution_count": 18,
     "metadata": {},
     "output_type": "execute_result"
    },
    {
     "data": {
      "image/png": "[encoded data removed]",
      "text/plain": [
       "<Figure size 640x480 with 1 Axes>"
      ]
     },
     "metadata": {},
     "output_type": "display_data"
    }
   ],
   "source": [
    "sns.boxplot(x=df['SulphidityL-4 '])"
   ]
  },
  {
   "cell_type": "code",
   "execution_count": 16,
   "id": "938b9090-1350-49db-9ce2-a61833b6208c",
   "metadata": {},
   "outputs": [
    {
     "data": {
      "image/png": "[encoded data removed]",
      "text/plain": [
       "<Figure size 640x480 with 1 Axes>"
      ]
     },
     "metadata": {},
     "output_type": "display_data"
    }
   ],
   "source": [
    "sns.histplot(data=df, x='SulphidityL-4 ', kde=True)\n",
    "plt.title('SulphidityL-4 ')\n",
    "plt.show()\n"
   ]
  },
  {
   "cell_type": "code",
   "execution_count": 19,
   "id": "8d45a5d8-c78c-4628-a8b7-bb86e4d8f1d9",
   "metadata": {},
   "outputs": [],
   "source": [
    "\n",
    "df.to_csv('cleaned_dataset.csv', index=False)\n"
   ]
  },
  {
   "cell_type": "code",
   "execution_count": null,
   "id": "8c09d4dc-d100-4887-89e3-eb39ba591dae",
   "metadata": {},
   "outputs": [],
   "source": []
  }
 ],
 "metadata": {
  "kernelspec": {
   "display_name": "Python 3 (ipykernel)",
   "language": "python",
   "name": "python3"
  },
  "language_info": {
   "codemirror_mode": {
    "name": "ipython",
    "version": 3
   },
   "file_extension": ".py",
   "mimetype": "text/x-python",
   "name": "python",
   "nbconvert_exporter": "python",
   "pygments_lexer": "ipython3",
   "version": "3.12.0"
  }
 },
 "nbformat": 4,
 "nbformat_minor": 5
}
